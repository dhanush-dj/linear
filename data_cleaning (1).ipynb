{
 "cells": [
  {
   "cell_type": "code",
   "execution_count": 2,
   "id": "e9a76929",
   "metadata": {},
   "outputs": [],
   "source": [
    "import numpy as np \n",
    "import pandas as pd  \n",
    "import seaborn as sns \n",
    "import matplotlib.pyplot as plt"
   ]
  },
  {
   "cell_type": "code",
   "execution_count": 5,
   "id": "c389174b",
   "metadata": {},
   "outputs": [],
   "source": [
    "df=pd.read_csv(\"C:/Users/User/Downloads/movies.csv/movies.csv\",header=0)"
   ]
  },
  {
   "cell_type": "code",
   "execution_count": 6,
   "id": "8ab8176f",
   "metadata": {},
   "outputs": [
    {
     "data": {
      "text/plain": [
       "(9999, 9)"
      ]
     },
     "execution_count": 6,
     "metadata": {},
     "output_type": "execute_result"
    }
   ],
   "source": [
    "df.shape"
   ]
  },
  {
   "cell_type": "code",
   "execution_count": 7,
   "id": "cfb062e9",
   "metadata": {},
   "outputs": [
    {
     "data": {
      "text/html": [
       "<div>\n",
       "<style scoped>\n",
       "    .dataframe tbody tr th:only-of-type {\n",
       "        vertical-align: middle;\n",
       "    }\n",
       "\n",
       "    .dataframe tbody tr th {\n",
       "        vertical-align: top;\n",
       "    }\n",
       "\n",
       "    .dataframe thead th {\n",
       "        text-align: right;\n",
       "    }\n",
       "</style>\n",
       "<table border=\"1\" class=\"dataframe\">\n",
       "  <thead>\n",
       "    <tr style=\"text-align: right;\">\n",
       "      <th></th>\n",
       "      <th>MOVIES</th>\n",
       "      <th>YEAR</th>\n",
       "      <th>GENRE</th>\n",
       "      <th>RATING</th>\n",
       "      <th>ONE-LINE</th>\n",
       "      <th>STARS</th>\n",
       "      <th>VOTES</th>\n",
       "      <th>RunTime</th>\n",
       "      <th>Gross</th>\n",
       "    </tr>\n",
       "  </thead>\n",
       "  <tbody>\n",
       "    <tr>\n",
       "      <th>6454</th>\n",
       "      <td>Graffiti Verite' 10: Hip-Hop Dance</td>\n",
       "      <td>(2010)</td>\n",
       "      <td>\\nDocumentary</td>\n",
       "      <td>NaN</td>\n",
       "      <td>\\nExplores all genres of Dance known as Hip Ho...</td>\n",
       "      <td>\\n    Director:\\nBob Bryan\\n| \\n    Stars:\\nKe...</td>\n",
       "      <td>NaN</td>\n",
       "      <td>75.0</td>\n",
       "      <td>NaN</td>\n",
       "    </tr>\n",
       "  </tbody>\n",
       "</table>\n",
       "</div>"
      ],
      "text/plain": [
       "                                  MOVIES    YEAR                      GENRE  \\\n",
       "6454  Graffiti Verite' 10: Hip-Hop Dance  (2010)  \\nDocumentary               \n",
       "\n",
       "      RATING                                           ONE-LINE  \\\n",
       "6454     NaN  \\nExplores all genres of Dance known as Hip Ho...   \n",
       "\n",
       "                                                  STARS VOTES  RunTime Gross  \n",
       "6454  \\n    Director:\\nBob Bryan\\n| \\n    Stars:\\nKe...   NaN     75.0   NaN  "
      ]
     },
     "execution_count": 7,
     "metadata": {},
     "output_type": "execute_result"
    }
   ],
   "source": [
    "df.sample()"
   ]
  },
  {
   "cell_type": "code",
   "execution_count": 8,
   "id": "9ec6913c",
   "metadata": {},
   "outputs": [
    {
     "data": {
      "text/html": [
       "<div>\n",
       "<style scoped>\n",
       "    .dataframe tbody tr th:only-of-type {\n",
       "        vertical-align: middle;\n",
       "    }\n",
       "\n",
       "    .dataframe tbody tr th {\n",
       "        vertical-align: top;\n",
       "    }\n",
       "\n",
       "    .dataframe thead th {\n",
       "        text-align: right;\n",
       "    }\n",
       "</style>\n",
       "<table border=\"1\" class=\"dataframe\">\n",
       "  <thead>\n",
       "    <tr style=\"text-align: right;\">\n",
       "      <th></th>\n",
       "      <th>RATING</th>\n",
       "      <th>RunTime</th>\n",
       "    </tr>\n",
       "  </thead>\n",
       "  <tbody>\n",
       "    <tr>\n",
       "      <th>count</th>\n",
       "      <td>8179.000000</td>\n",
       "      <td>7041.000000</td>\n",
       "    </tr>\n",
       "    <tr>\n",
       "      <th>mean</th>\n",
       "      <td>6.921176</td>\n",
       "      <td>68.688539</td>\n",
       "    </tr>\n",
       "    <tr>\n",
       "      <th>std</th>\n",
       "      <td>1.220232</td>\n",
       "      <td>47.258056</td>\n",
       "    </tr>\n",
       "    <tr>\n",
       "      <th>min</th>\n",
       "      <td>1.100000</td>\n",
       "      <td>1.000000</td>\n",
       "    </tr>\n",
       "    <tr>\n",
       "      <th>25%</th>\n",
       "      <td>6.200000</td>\n",
       "      <td>36.000000</td>\n",
       "    </tr>\n",
       "    <tr>\n",
       "      <th>50%</th>\n",
       "      <td>7.100000</td>\n",
       "      <td>60.000000</td>\n",
       "    </tr>\n",
       "    <tr>\n",
       "      <th>75%</th>\n",
       "      <td>7.800000</td>\n",
       "      <td>95.000000</td>\n",
       "    </tr>\n",
       "    <tr>\n",
       "      <th>max</th>\n",
       "      <td>9.900000</td>\n",
       "      <td>853.000000</td>\n",
       "    </tr>\n",
       "  </tbody>\n",
       "</table>\n",
       "</div>"
      ],
      "text/plain": [
       "            RATING      RunTime\n",
       "count  8179.000000  7041.000000\n",
       "mean      6.921176    68.688539\n",
       "std       1.220232    47.258056\n",
       "min       1.100000     1.000000\n",
       "25%       6.200000    36.000000\n",
       "50%       7.100000    60.000000\n",
       "75%       7.800000    95.000000\n",
       "max       9.900000   853.000000"
      ]
     },
     "execution_count": 8,
     "metadata": {},
     "output_type": "execute_result"
    }
   ],
   "source": [
    "df.describe()"
   ]
  },
  {
   "cell_type": "code",
   "execution_count": 9,
   "id": "2729dd0a",
   "metadata": {},
   "outputs": [
    {
     "data": {
      "text/plain": [
       "MOVIES       object\n",
       "YEAR         object\n",
       "GENRE        object\n",
       "RATING      float64\n",
       "ONE-LINE     object\n",
       "STARS        object\n",
       "VOTES        object\n",
       "RunTime     float64\n",
       "Gross        object\n",
       "dtype: object"
      ]
     },
     "execution_count": 9,
     "metadata": {},
     "output_type": "execute_result"
    }
   ],
   "source": [
    "#finding the datatype of each feature\n",
    "\n",
    "df.dtypes"
   ]
  },
  {
   "cell_type": "code",
   "execution_count": 10,
   "id": "9d473e9d",
   "metadata": {},
   "outputs": [
    {
     "data": {
      "text/plain": [
       "MOVIES         0\n",
       "YEAR         644\n",
       "GENRE         80\n",
       "RATING      1820\n",
       "ONE-LINE       0\n",
       "STARS          0\n",
       "VOTES       1820\n",
       "RunTime     2958\n",
       "Gross       9539\n",
       "dtype: int64"
      ]
     },
     "execution_count": 10,
     "metadata": {},
     "output_type": "execute_result"
    }
   ],
   "source": [
    "df.isnull().sum() "
   ]
  },
  {
   "cell_type": "code",
   "execution_count": 11,
   "id": "0aa090a8",
   "metadata": {},
   "outputs": [],
   "source": [
    "\n",
    "replace=df['YEAR'].fillna(df[\"YEAR\"].mode()[0],inplace=True)\n",
    "replace=df['GENRE'].fillna(df[\"GENRE\"].mode()[0],inplace=True)\n",
    "replace=df['VOTES'].fillna(df[\"VOTES\"].mode()[0],inplace=True)\n",
    "replace=df['Gross'].fillna(df[\"Gross\"].mode()[0],inplace=True)"
   ]
  },
  {
   "cell_type": "code",
   "execution_count": 12,
   "id": "0e365c50",
   "metadata": {},
   "outputs": [],
   "source": [
    "# separating a categorical column from numerical columns\n",
    "\n",
    "df1=df.select_dtypes(exclude=['object'])"
   ]
  },
  {
   "cell_type": "code",
   "execution_count": 13,
   "id": "c8b4c90b",
   "metadata": {},
   "outputs": [],
   "source": [
    "df2=df.select_dtypes(exclude=['float64','int64'])"
   ]
  },
  {
   "cell_type": "code",
   "execution_count": 14,
   "id": "7681d4ea",
   "metadata": {},
   "outputs": [
    {
     "data": {
      "image/png": "[encoded data removed]",
      "text/plain": [
       "<Figure size 1000x100 with 1 Axes>"
      ]
     },
     "metadata": {},
     "output_type": "display_data"
    },
    {
     "data": {
      "image/png": "[encoded data removed]",
      "text/plain": [
       "<Figure size 1000x100 with 1 Axes>"
      ]
     },
     "metadata": {},
     "output_type": "display_data"
    }
   ],
   "source": [
    "# Applying a box-plot to check the outliers\n",
    "for column in df1:\n",
    "    plt.figure(figsize=(10,1))\n",
    "    sns.boxplot(data=df1,x=column)"
   ]
  },
  {
   "cell_type": "code",
   "execution_count": 15,
   "id": "22fb256b",
   "metadata": {},
   "outputs": [],
   "source": [
    "import numpy as np\n",
    "\n",
    "def remove_outliers(df1):\n",
    "    \"\"\"\n",
    "    Removes outliers from a given dataset using the Z-score method.\n",
    "    \n",
    "    :param data: a 1D numpy array of data\n",
    "    :return: a 1D numpy array with outliers removed\n",
    "    \"\"\"\n",
    "    # Calculate the Z-scores\n",
    "    z_scores = np.abs((df1 - np.mean(df1)) / np.std(df1))\n",
    "\n",
    "    # Define a threshold for outlier detection\n",
    "    threshold = 5.0\n",
    "\n",
    "    # Identify the outliers\n",
    "    outliers = z_scores > threshold\n",
    "\n",
    "    # Remove the outliers\n",
    "    cleaned_data = df1[~outliers]\n",
    "\n",
    "    return cleaned_data\n"
   ]
  },
  {
   "cell_type": "code",
   "execution_count": 16,
   "id": "6e62c567",
   "metadata": {},
   "outputs": [
    {
     "name": "stdout",
     "output_type": "stream",
     "text": [
      "      RATING  RunTime\n",
      "0        6.1    121.0\n",
      "1        5.0     25.0\n",
      "2        8.2     44.0\n",
      "3        9.2     23.0\n",
      "4        NaN      NaN\n",
      "...      ...      ...\n",
      "9994     NaN      NaN\n",
      "9995     NaN      NaN\n",
      "9996     NaN      NaN\n",
      "9997     NaN      NaN\n",
      "9998     NaN      NaN\n",
      "\n",
      "[9999 rows x 2 columns]\n"
     ]
    },
    {
     "name": "stderr",
     "output_type": "stream",
     "text": [
      "D:\\anaconda\\lib\\site-packages\\numpy\\core\\fromnumeric.py:3438: FutureWarning: In a future version, DataFrame.mean(axis=None) will return a scalar mean over the entire DataFrame. To retain the old behavior, use 'frame.mean(axis=0)' or just 'frame.mean()'\n",
      "  return mean(axis=axis, dtype=dtype, out=out, **kwargs)\n"
     ]
    }
   ],
   "source": [
    "# Remove outliers\n",
    "cleaned_data = remove_outliers(df1)\n",
    "\n",
    "# Print the cleaned data\n",
    "print(cleaned_data)"
   ]
  },
  {
   "cell_type": "code",
   "execution_count": 17,
   "id": "be63ca44",
   "metadata": {},
   "outputs": [
    {
     "data": {
      "image/png": "[encoded data removed]",
      "text/plain": [
       "<Figure size 2000x200 with 1 Axes>"
      ]
     },
     "metadata": {},
     "output_type": "display_data"
    },
    {
     "data": {
      "image/png": "[encoded data removed]",
      "text/plain": [
       "<Figure size 2000x200 with 1 Axes>"
      ]
     },
     "metadata": {},
     "output_type": "display_data"
    }
   ],
   "source": [
    "# Applying a box-plot to check the outliers\n",
    "for column in df1:\n",
    "    plt.figure(figsize=(20,2))\n",
    "    sns.boxplot(data=cleaned_data,x=column)"
   ]
  },
  {
   "cell_type": "code",
   "execution_count": 18,
   "id": "a9c21f7d",
   "metadata": {},
   "outputs": [
    {
     "data": {
      "text/plain": [
       "RATING     1820\n",
       "RunTime    2958\n",
       "dtype: int64"
      ]
     },
     "execution_count": 18,
     "metadata": {},
     "output_type": "execute_result"
    }
   ],
   "source": [
    "df1.isnull().sum()"
   ]
  },
  {
   "cell_type": "code",
   "execution_count": 19,
   "id": "551361a2",
   "metadata": {},
   "outputs": [],
   "source": [
    "# missing value treatment using median\n",
    "median_rating = df1['RATING'].median()\n",
    "df1['RATING'] = df1['RATING'].fillna(median_rating)\n"
   ]
  },
  {
   "cell_type": "code",
   "execution_count": 20,
   "id": "e739bb19",
   "metadata": {},
   "outputs": [],
   "source": [
    "median_runtime = df1['RunTime'].median()\n",
    "df1['RunTime'] = df1['RunTime'].fillna(median_runtime)\n"
   ]
  },
  {
   "cell_type": "code",
   "execution_count": 21,
   "id": "a0b9a869",
   "metadata": {},
   "outputs": [
    {
     "data": {
      "text/plain": [
       "RATING     0\n",
       "RunTime    0\n",
       "dtype: int64"
      ]
     },
     "execution_count": 21,
     "metadata": {},
     "output_type": "execute_result"
    }
   ],
   "source": [
    "df1.isnull().sum()"
   ]
  },
  {
   "cell_type": "code",
   "execution_count": 22,
   "id": "9b03a0b4",
   "metadata": {},
   "outputs": [],
   "source": [
    "df=pd.concat([df1,df2],axis=1)"
   ]
  },
  {
   "cell_type": "code",
   "execution_count": 23,
   "id": "c7012ed5",
   "metadata": {},
   "outputs": [
    {
     "data": {
      "text/plain": [
       "(9999, 9)"
      ]
     },
     "execution_count": 23,
     "metadata": {},
     "output_type": "execute_result"
    }
   ],
   "source": [
    "df.shape"
   ]
  },
  {
   "cell_type": "code",
   "execution_count": 24,
   "id": "f624b0c6",
   "metadata": {},
   "outputs": [
    {
     "data": {
      "text/html": [
       "<div>\n",
       "<style scoped>\n",
       "    .dataframe tbody tr th:only-of-type {\n",
       "        vertical-align: middle;\n",
       "    }\n",
       "\n",
       "    .dataframe tbody tr th {\n",
       "        vertical-align: top;\n",
       "    }\n",
       "\n",
       "    .dataframe thead th {\n",
       "        text-align: right;\n",
       "    }\n",
       "</style>\n",
       "<table border=\"1\" class=\"dataframe\">\n",
       "  <thead>\n",
       "    <tr style=\"text-align: right;\">\n",
       "      <th></th>\n",
       "      <th>RATING</th>\n",
       "      <th>RunTime</th>\n",
       "      <th>MOVIES</th>\n",
       "      <th>YEAR</th>\n",
       "      <th>GENRE</th>\n",
       "      <th>ONE-LINE</th>\n",
       "      <th>STARS</th>\n",
       "      <th>VOTES</th>\n",
       "      <th>Gross</th>\n",
       "    </tr>\n",
       "  </thead>\n",
       "  <tbody>\n",
       "    <tr>\n",
       "      <th>0</th>\n",
       "      <td>6.1</td>\n",
       "      <td>121.0</td>\n",
       "      <td>Blood Red Sky</td>\n",
       "      <td>(2021)</td>\n",
       "      <td>\\nAction, Horror, Thriller</td>\n",
       "      <td>\\nA woman with a mysterious illness is forced ...</td>\n",
       "      <td>\\n    Director:\\nPeter Thorwarth\\n| \\n    Star...</td>\n",
       "      <td>21,062</td>\n",
       "      <td>$0.01M</td>\n",
       "    </tr>\n",
       "    <tr>\n",
       "      <th>1</th>\n",
       "      <td>5.0</td>\n",
       "      <td>25.0</td>\n",
       "      <td>Masters of the Universe: Revelation</td>\n",
       "      <td>(2021– )</td>\n",
       "      <td>\\nAnimation, Action, Adventure</td>\n",
       "      <td>\\nThe war for Eternia begins again in what may...</td>\n",
       "      <td>\\n            \\n    Stars:\\nChris Wood, \\nSara...</td>\n",
       "      <td>17,870</td>\n",
       "      <td>$0.01M</td>\n",
       "    </tr>\n",
       "    <tr>\n",
       "      <th>2</th>\n",
       "      <td>8.2</td>\n",
       "      <td>44.0</td>\n",
       "      <td>The Walking Dead</td>\n",
       "      <td>(2010–2022)</td>\n",
       "      <td>\\nDrama, Horror, Thriller</td>\n",
       "      <td>\\nSheriff Deputy Rick Grimes wakes up from a c...</td>\n",
       "      <td>\\n            \\n    Stars:\\nAndrew Lincoln, \\n...</td>\n",
       "      <td>885,805</td>\n",
       "      <td>$0.01M</td>\n",
       "    </tr>\n",
       "    <tr>\n",
       "      <th>3</th>\n",
       "      <td>9.2</td>\n",
       "      <td>23.0</td>\n",
       "      <td>Rick and Morty</td>\n",
       "      <td>(2013– )</td>\n",
       "      <td>\\nAnimation, Adventure, Comedy</td>\n",
       "      <td>\\nAn animated series that follows the exploits...</td>\n",
       "      <td>\\n            \\n    Stars:\\nJustin Roiland, \\n...</td>\n",
       "      <td>414,849</td>\n",
       "      <td>$0.01M</td>\n",
       "    </tr>\n",
       "    <tr>\n",
       "      <th>4</th>\n",
       "      <td>7.1</td>\n",
       "      <td>60.0</td>\n",
       "      <td>Army of Thieves</td>\n",
       "      <td>(2021)</td>\n",
       "      <td>\\nAction, Crime, Horror</td>\n",
       "      <td>\\nA prequel, set before the events of Army of ...</td>\n",
       "      <td>\\n    Director:\\nMatthias Schweighöfer\\n| \\n  ...</td>\n",
       "      <td>7</td>\n",
       "      <td>$0.01M</td>\n",
       "    </tr>\n",
       "    <tr>\n",
       "      <th>...</th>\n",
       "      <td>...</td>\n",
       "      <td>...</td>\n",
       "      <td>...</td>\n",
       "      <td>...</td>\n",
       "      <td>...</td>\n",
       "      <td>...</td>\n",
       "      <td>...</td>\n",
       "      <td>...</td>\n",
       "      <td>...</td>\n",
       "    </tr>\n",
       "    <tr>\n",
       "      <th>9994</th>\n",
       "      <td>7.1</td>\n",
       "      <td>60.0</td>\n",
       "      <td>The Imperfects</td>\n",
       "      <td>(2021– )</td>\n",
       "      <td>\\nAdventure, Drama, Fantasy</td>\n",
       "      <td>\\nAdd a Plot\\n</td>\n",
       "      <td>\\n            \\n    Stars:\\nMorgan Taylor Camp...</td>\n",
       "      <td>7</td>\n",
       "      <td>$0.01M</td>\n",
       "    </tr>\n",
       "    <tr>\n",
       "      <th>9995</th>\n",
       "      <td>7.1</td>\n",
       "      <td>60.0</td>\n",
       "      <td>Arcane</td>\n",
       "      <td>(2021– )</td>\n",
       "      <td>\\nAnimation, Action, Adventure</td>\n",
       "      <td>\\nAdd a Plot\\n</td>\n",
       "      <td>\\n</td>\n",
       "      <td>7</td>\n",
       "      <td>$0.01M</td>\n",
       "    </tr>\n",
       "    <tr>\n",
       "      <th>9996</th>\n",
       "      <td>7.1</td>\n",
       "      <td>60.0</td>\n",
       "      <td>Heart of Invictus</td>\n",
       "      <td>(2022– )</td>\n",
       "      <td>\\nDocumentary, Sport</td>\n",
       "      <td>\\nAdd a Plot\\n</td>\n",
       "      <td>\\n    Director:\\nOrlando von Einsiedel\\n| \\n  ...</td>\n",
       "      <td>7</td>\n",
       "      <td>$0.01M</td>\n",
       "    </tr>\n",
       "    <tr>\n",
       "      <th>9997</th>\n",
       "      <td>7.1</td>\n",
       "      <td>60.0</td>\n",
       "      <td>The Imperfects</td>\n",
       "      <td>(2021– )</td>\n",
       "      <td>\\nAdventure, Drama, Fantasy</td>\n",
       "      <td>\\nAdd a Plot\\n</td>\n",
       "      <td>\\n    Director:\\nJovanka Vuckovic\\n| \\n    Sta...</td>\n",
       "      <td>7</td>\n",
       "      <td>$0.01M</td>\n",
       "    </tr>\n",
       "    <tr>\n",
       "      <th>9998</th>\n",
       "      <td>7.1</td>\n",
       "      <td>60.0</td>\n",
       "      <td>The Imperfects</td>\n",
       "      <td>(2021– )</td>\n",
       "      <td>\\nAdventure, Drama, Fantasy</td>\n",
       "      <td>\\nAdd a Plot\\n</td>\n",
       "      <td>\\n    Director:\\nJovanka Vuckovic\\n| \\n    Sta...</td>\n",
       "      <td>7</td>\n",
       "      <td>$0.01M</td>\n",
       "    </tr>\n",
       "  </tbody>\n",
       "</table>\n",
       "<p>9999 rows × 9 columns</p>\n",
       "</div>"
      ],
      "text/plain": [
       "      RATING  RunTime                               MOVIES         YEAR  \\\n",
       "0        6.1    121.0                        Blood Red Sky       (2021)   \n",
       "1        5.0     25.0  Masters of the Universe: Revelation     (2021– )   \n",
       "2        8.2     44.0                     The Walking Dead  (2010–2022)   \n",
       "3        9.2     23.0                       Rick and Morty     (2013– )   \n",
       "4        7.1     60.0                      Army of Thieves       (2021)   \n",
       "...      ...      ...                                  ...          ...   \n",
       "9994     7.1     60.0                       The Imperfects     (2021– )   \n",
       "9995     7.1     60.0                               Arcane     (2021– )   \n",
       "9996     7.1     60.0                    Heart of Invictus     (2022– )   \n",
       "9997     7.1     60.0                       The Imperfects     (2021– )   \n",
       "9998     7.1     60.0                       The Imperfects     (2021– )   \n",
       "\n",
       "                                           GENRE  \\\n",
       "0         \\nAction, Horror, Thriller               \n",
       "1     \\nAnimation, Action, Adventure               \n",
       "2          \\nDrama, Horror, Thriller               \n",
       "3     \\nAnimation, Adventure, Comedy               \n",
       "4            \\nAction, Crime, Horror               \n",
       "...                                          ...   \n",
       "9994     \\nAdventure, Drama, Fantasy               \n",
       "9995  \\nAnimation, Action, Adventure               \n",
       "9996            \\nDocumentary, Sport               \n",
       "9997     \\nAdventure, Drama, Fantasy               \n",
       "9998     \\nAdventure, Drama, Fantasy               \n",
       "\n",
       "                                               ONE-LINE  \\\n",
       "0     \\nA woman with a mysterious illness is forced ...   \n",
       "1     \\nThe war for Eternia begins again in what may...   \n",
       "2     \\nSheriff Deputy Rick Grimes wakes up from a c...   \n",
       "3     \\nAn animated series that follows the exploits...   \n",
       "4     \\nA prequel, set before the events of Army of ...   \n",
       "...                                                 ...   \n",
       "9994                                     \\nAdd a Plot\\n   \n",
       "9995                                     \\nAdd a Plot\\n   \n",
       "9996                                     \\nAdd a Plot\\n   \n",
       "9997                                     \\nAdd a Plot\\n   \n",
       "9998                                     \\nAdd a Plot\\n   \n",
       "\n",
       "                                                  STARS    VOTES   Gross  \n",
       "0     \\n    Director:\\nPeter Thorwarth\\n| \\n    Star...   21,062  $0.01M  \n",
       "1     \\n            \\n    Stars:\\nChris Wood, \\nSara...   17,870  $0.01M  \n",
       "2     \\n            \\n    Stars:\\nAndrew Lincoln, \\n...  885,805  $0.01M  \n",
       "3     \\n            \\n    Stars:\\nJustin Roiland, \\n...  414,849  $0.01M  \n",
       "4     \\n    Director:\\nMatthias Schweighöfer\\n| \\n  ...        7  $0.01M  \n",
       "...                                                 ...      ...     ...  \n",
       "9994  \\n            \\n    Stars:\\nMorgan Taylor Camp...        7  $0.01M  \n",
       "9995                                                 \\n        7  $0.01M  \n",
       "9996  \\n    Director:\\nOrlando von Einsiedel\\n| \\n  ...        7  $0.01M  \n",
       "9997  \\n    Director:\\nJovanka Vuckovic\\n| \\n    Sta...        7  $0.01M  \n",
       "9998  \\n    Director:\\nJovanka Vuckovic\\n| \\n    Sta...        7  $0.01M  \n",
       "\n",
       "[9999 rows x 9 columns]"
      ]
     },
     "execution_count": 24,
     "metadata": {},
     "output_type": "execute_result"
    }
   ],
   "source": [
    "df"
   ]
  },
  {
   "cell_type": "code",
   "execution_count": 25,
   "id": "6e3d6008",
   "metadata": {},
   "outputs": [
    {
     "data": {
      "text/plain": [
       "RATING      0\n",
       "RunTime     0\n",
       "MOVIES      0\n",
       "YEAR        0\n",
       "GENRE       0\n",
       "ONE-LINE    0\n",
       "STARS       0\n",
       "VOTES       0\n",
       "Gross       0\n",
       "dtype: int64"
      ]
     },
     "execution_count": 25,
     "metadata": {},
     "output_type": "execute_result"
    }
   ],
   "source": [
    "df.isnull().sum()"
   ]
  },
  {
   "cell_type": "code",
   "execution_count": 26,
   "id": "f504a3fc",
   "metadata": {},
   "outputs": [
    {
     "data": {
      "text/plain": [
       "RATING      float64\n",
       "RunTime     float64\n",
       "MOVIES       object\n",
       "YEAR         object\n",
       "GENRE        object\n",
       "ONE-LINE     object\n",
       "STARS        object\n",
       "VOTES        object\n",
       "Gross        object\n",
       "dtype: object"
      ]
     },
     "execution_count": 26,
     "metadata": {},
     "output_type": "execute_result"
    }
   ],
   "source": [
    "df.dtypes"
   ]
  },
  {
   "cell_type": "code",
   "execution_count": 27,
   "id": "bd447720",
   "metadata": {},
   "outputs": [],
   "source": [
    "\n",
    "from sklearn.preprocessing import LabelEncoder\n",
    "\n",
    "Label = LabelEncoder() \n",
    "df['MOVIES'] = Label.fit_transform(df['MOVIES'])\n",
    "df['YEAR'] = Label.fit_transform(df['YEAR'])\n",
    "df['GENRE'] = Label.fit_transform(df['GENRE'])\n",
    "df['ONE-LINE'] = Label.fit_transform(df['ONE-LINE'])\n",
    "df['STARS'] = Label.fit_transform(df['STARS'])\n",
    "df['VOTES'] = Label.fit_transform(df['VOTES'])\n",
    "df['Gross'] = Label.fit_transform(df['Gross'])\n"
   ]
  },
  {
   "cell_type": "code",
   "execution_count": 28,
   "id": "6f3ac483",
   "metadata": {},
   "outputs": [
    {
     "data": {
      "text/plain": [
       "RATING      float64\n",
       "RunTime     float64\n",
       "MOVIES        int32\n",
       "YEAR          int32\n",
       "GENRE         int32\n",
       "ONE-LINE      int32\n",
       "STARS         int32\n",
       "VOTES         int32\n",
       "Gross         int32\n",
       "dtype: object"
      ]
     },
     "execution_count": 28,
     "metadata": {},
     "output_type": "execute_result"
    }
   ],
   "source": [
    "df.dtypes"
   ]
  },
  {
   "cell_type": "code",
   "execution_count": 29,
   "id": "00e8af39",
   "metadata": {},
   "outputs": [
    {
     "data": {
      "text/html": [
       "<div>\n",
       "<style scoped>\n",
       "    .dataframe tbody tr th:only-of-type {\n",
       "        vertical-align: middle;\n",
       "    }\n",
       "\n",
       "    .dataframe tbody tr th {\n",
       "        vertical-align: top;\n",
       "    }\n",
       "\n",
       "    .dataframe thead th {\n",
       "        text-align: right;\n",
       "    }\n",
       "</style>\n",
       "<table border=\"1\" class=\"dataframe\">\n",
       "  <thead>\n",
       "    <tr style=\"text-align: right;\">\n",
       "      <th></th>\n",
       "      <th>RATING</th>\n",
       "      <th>RunTime</th>\n",
       "      <th>MOVIES</th>\n",
       "      <th>YEAR</th>\n",
       "      <th>GENRE</th>\n",
       "      <th>ONE-LINE</th>\n",
       "      <th>STARS</th>\n",
       "      <th>VOTES</th>\n",
       "      <th>Gross</th>\n",
       "    </tr>\n",
       "  </thead>\n",
       "  <tbody>\n",
       "    <tr>\n",
       "      <th>0</th>\n",
       "      <td>6.1</td>\n",
       "      <td>121.0</td>\n",
       "      <td>1139</td>\n",
       "      <td>338</td>\n",
       "      <td>60</td>\n",
       "      <td>1548</td>\n",
       "      <td>6057</td>\n",
       "      <td>1656</td>\n",
       "      <td>1</td>\n",
       "    </tr>\n",
       "    <tr>\n",
       "      <th>1</th>\n",
       "      <td>5.0</td>\n",
       "      <td>25.0</td>\n",
       "      <td>3719</td>\n",
       "      <td>339</td>\n",
       "      <td>112</td>\n",
       "      <td>7482</td>\n",
       "      <td>622</td>\n",
       "      <td>1110</td>\n",
       "      <td>1</td>\n",
       "    </tr>\n",
       "    <tr>\n",
       "      <th>2</th>\n",
       "      <td>8.2</td>\n",
       "      <td>44.0</td>\n",
       "      <td>6022</td>\n",
       "      <td>222</td>\n",
       "      <td>387</td>\n",
       "      <td>6371</td>\n",
       "      <td>305</td>\n",
       "      <td>3938</td>\n",
       "      <td>1</td>\n",
       "    </tr>\n",
       "    <tr>\n",
       "      <th>3</th>\n",
       "      <td>9.2</td>\n",
       "      <td>23.0</td>\n",
       "      <td>4621</td>\n",
       "      <td>255</td>\n",
       "      <td>123</td>\n",
       "      <td>2222</td>\n",
       "      <td>1476</td>\n",
       "      <td>2777</td>\n",
       "      <td>1</td>\n",
       "    </tr>\n",
       "    <tr>\n",
       "      <th>4</th>\n",
       "      <td>7.1</td>\n",
       "      <td>60.0</td>\n",
       "      <td>836</td>\n",
       "      <td>338</td>\n",
       "      <td>31</td>\n",
       "      <td>1108</td>\n",
       "      <td>5543</td>\n",
       "      <td>3513</td>\n",
       "      <td>1</td>\n",
       "    </tr>\n",
       "    <tr>\n",
       "      <th>...</th>\n",
       "      <td>...</td>\n",
       "      <td>...</td>\n",
       "      <td>...</td>\n",
       "      <td>...</td>\n",
       "      <td>...</td>\n",
       "      <td>...</td>\n",
       "      <td>...</td>\n",
       "      <td>...</td>\n",
       "      <td>...</td>\n",
       "    </tr>\n",
       "    <tr>\n",
       "      <th>9994</th>\n",
       "      <td>7.1</td>\n",
       "      <td>60.0</td>\n",
       "      <td>325</td>\n",
       "      <td>339</td>\n",
       "      <td>86</td>\n",
       "      <td>1744</td>\n",
       "      <td>1975</td>\n",
       "      <td>3513</td>\n",
       "      <td>1</td>\n",
       "    </tr>\n",
       "    <tr>\n",
       "      <th>9995</th>\n",
       "      <td>7.1</td>\n",
       "      <td>60.0</td>\n",
       "      <td>20</td>\n",
       "      <td>339</td>\n",
       "      <td>112</td>\n",
       "      <td>1744</td>\n",
       "      <td>0</td>\n",
       "      <td>3513</td>\n",
       "      <td>1</td>\n",
       "    </tr>\n",
       "    <tr>\n",
       "      <th>9996</th>\n",
       "      <td>7.1</td>\n",
       "      <td>60.0</td>\n",
       "      <td>139</td>\n",
       "      <td>342</td>\n",
       "      <td>350</td>\n",
       "      <td>1744</td>\n",
       "      <td>5901</td>\n",
       "      <td>3513</td>\n",
       "      <td>1</td>\n",
       "    </tr>\n",
       "    <tr>\n",
       "      <th>9997</th>\n",
       "      <td>7.1</td>\n",
       "      <td>60.0</td>\n",
       "      <td>325</td>\n",
       "      <td>339</td>\n",
       "      <td>86</td>\n",
       "      <td>1744</td>\n",
       "      <td>4907</td>\n",
       "      <td>3513</td>\n",
       "      <td>1</td>\n",
       "    </tr>\n",
       "    <tr>\n",
       "      <th>9998</th>\n",
       "      <td>7.1</td>\n",
       "      <td>60.0</td>\n",
       "      <td>325</td>\n",
       "      <td>339</td>\n",
       "      <td>86</td>\n",
       "      <td>1744</td>\n",
       "      <td>4908</td>\n",
       "      <td>3513</td>\n",
       "      <td>1</td>\n",
       "    </tr>\n",
       "  </tbody>\n",
       "</table>\n",
       "<p>9999 rows × 9 columns</p>\n",
       "</div>"
      ],
      "text/plain": [
       "      RATING  RunTime  MOVIES  YEAR  GENRE  ONE-LINE  STARS  VOTES  Gross\n",
       "0        6.1    121.0    1139   338     60      1548   6057   1656      1\n",
       "1        5.0     25.0    3719   339    112      7482    622   1110      1\n",
       "2        8.2     44.0    6022   222    387      6371    305   3938      1\n",
       "3        9.2     23.0    4621   255    123      2222   1476   2777      1\n",
       "4        7.1     60.0     836   338     31      1108   5543   3513      1\n",
       "...      ...      ...     ...   ...    ...       ...    ...    ...    ...\n",
       "9994     7.1     60.0     325   339     86      1744   1975   3513      1\n",
       "9995     7.1     60.0      20   339    112      1744      0   3513      1\n",
       "9996     7.1     60.0     139   342    350      1744   5901   3513      1\n",
       "9997     7.1     60.0     325   339     86      1744   4907   3513      1\n",
       "9998     7.1     60.0     325   339     86      1744   4908   3513      1\n",
       "\n",
       "[9999 rows x 9 columns]"
      ]
     },
     "execution_count": 29,
     "metadata": {},
     "output_type": "execute_result"
    }
   ],
   "source": [
    "df"
   ]
  },
  {
   "cell_type": "code",
   "execution_count": null,
   "id": "75d588b4",
   "metadata": {},
   "outputs": [],
   "source": []
  }
 ],
 "metadata": {
  "kernelspec": {
   "display_name": "Python 3 (ipykernel)",
   "language": "python",
   "name": "python3"
  },
  "language_info": {
   "codemirror_mode": {
    "name": "ipython",
    "version": 3
   },
   "file_extension": ".py",
   "mimetype": "text/x-python",
   "name": "python",
   "nbconvert_exporter": "python",
   "pygments_lexer": "ipython3",
   "version": "3.9.13"
  }
 },
 "nbformat": 4,
 "nbformat_minor": 5
}
