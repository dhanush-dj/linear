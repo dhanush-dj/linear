{
 "cells": [
  {
   "cell_type": "markdown",
   "metadata": {
    "id": "MF47DSPemrnX",
    "papermill": {
     "duration": 0.023704,
     "end_time": "2021-02-10T19:12:05.150802",
     "exception": false,
     "start_time": "2021-02-10T19:12:05.127098",
     "status": "completed"
    },
    "tags": []
   },
   "source": [
    "# ML Regression Algorithms from Scratch - Linear Regression "
   ]
  },
  {
   "cell_type": "markdown",
   "metadata": {
    "id": "bGjv_UdtP999",
    "papermill": {
     "duration": 0.022087,
     "end_time": "2021-02-10T19:12:05.195515",
     "exception": false,
     "start_time": "2021-02-10T19:12:05.173428",
     "status": "completed"
    },
    "tags": []
   },
   "source": [
    "## Introduction"
   ]
  },
  {
   "cell_type": "markdown",
   "metadata": {
    "id": "klk23LsZQC0M",
    "papermill": {
     "duration": 0.021849,
     "end_time": "2021-02-10T19:12:05.239845",
     "exception": false,
     "start_time": "2021-02-10T19:12:05.217996",
     "status": "completed"
    },
    "tags": []
   },
   "source": [
    "In this notebook, first, we implement Linear Regression from Scratch using Numpy without Sklearn. After the scratch implementation, we also implement the Linear Regression using Sklearn and compare the two models. The complete code is written and executed in Google Colab. No need of installing any additional packages is required. Download this notebook and upload to Google Colab to run it by yourself. Don't forget to grab your Datasets! \n",
    "\n",
    "The Dataset used here is the **Salary_Data** dataset provided by the Super Data Science Team under their programme **Machine Learning A-Z: Hands on Python & R in Data Science**. Find the various datasets provided by them [here](https://www.superdatascience.com/pages/machine-learning).\n",
    "\n",
    "**Response Variable** - Years of Experience\n",
    "\n",
    "**Target Variable** - Salary\n",
    "\n",
    "**Equation Used** - y = W1 * X1 + W0 * X0\n",
    "\n",
    "**For Scratch Implementation:**\n",
    "    \n",
    "    Loss Function : Mean Squared Error\n",
    "\n",
    "    Optimization Algorithm : SGD\n",
    "\n",
    "    Weight Initialization : Xavier Initialization\n",
    "\n"
   ]
  },
  {
   "cell_type": "markdown",
   "metadata": {
    "id": "saI5S98Fkvx8",
    "papermill": {
     "duration": 0.021865,
     "end_time": "2021-02-10T19:12:05.283920",
     "exception": false,
     "start_time": "2021-02-10T19:12:05.262055",
     "status": "completed"
    },
    "tags": []
   },
   "source": [
    "## Linear Regression from Scratch without SKlearn"
   ]
  },
  {
   "cell_type": "markdown",
   "metadata": {
    "id": "DXvL5a1RlAzE",
    "papermill": {
     "duration": 0.022943,
     "end_time": "2021-02-10T19:12:05.328948",
     "exception": false,
     "start_time": "2021-02-10T19:12:05.306005",
     "status": "completed"
    },
    "tags": []
   },
   "source": [
    "### Importing the Dependencies"
   ]
  },
  {
   "cell_type": "code",
   "execution_count": 2,
   "metadata": {
    "execution": {
     "iopub.execute_input": "2021-02-10T19:12:05.378452Z",
     "iopub.status.busy": "2021-02-10T19:12:05.377836Z",
     "iopub.status.idle": "2021-02-10T19:12:05.381173Z",
     "shell.execute_reply": "2021-02-10T19:12:05.380576Z"
    },
    "id": "GXI1413Foust",
    "papermill": {
     "duration": 0.03037,
     "end_time": "2021-02-10T19:12:05.381359",
     "exception": false,
     "start_time": "2021-02-10T19:12:05.350989",
     "status": "completed"
    },
    "tags": []
   },
   "outputs": [],
   "source": [
    "#importing the required packages\n",
    "import numpy as np\n",
    "import pandas as pd\n",
    "import matplotlib.pyplot as plt"
   ]
  },
  {
   "cell_type": "markdown",
   "metadata": {
    "id": "s0J-6GLhlFxE",
    "papermill": {
     "duration": 0.021816,
     "end_time": "2021-02-10T19:12:05.425553",
     "exception": false,
     "start_time": "2021-02-10T19:12:05.403737",
     "status": "completed"
    },
    "tags": []
   },
   "source": [
    "### Get the Data and Data Preprocessing"
   ]
  },
  {
   "cell_type": "code",
   "execution_count": 4,
   "metadata": {
    "execution": {
     "iopub.execute_input": "2021-02-10T19:12:05.474569Z",
     "iopub.status.busy": "2021-02-10T19:12:05.473909Z",
     "iopub.status.idle": "2021-02-10T19:12:05.488865Z",
     "shell.execute_reply": "2021-02-10T19:12:05.487652Z"
    },
    "id": "Kr3QiE8Jf3Pa",
    "papermill": {
     "duration": 0.041464,
     "end_time": "2021-02-10T19:12:05.489017",
     "exception": false,
     "start_time": "2021-02-10T19:12:05.447553",
     "status": "completed"
    },
    "tags": []
   },
   "outputs": [],
   "source": [
    "#Get the dataset\n",
    "dataset = pd.read_csv(\"C:/Users/User/Downloads/Salary_Data.csv\")"
   ]
  },
  {
   "cell_type": "code",
   "execution_count": 5,
   "metadata": {
    "execution": {
     "iopub.execute_input": "2021-02-10T19:12:05.547191Z",
     "iopub.status.busy": "2021-02-10T19:12:05.546313Z",
     "iopub.status.idle": "2021-02-10T19:12:05.563457Z",
     "shell.execute_reply": "2021-02-10T19:12:05.562780Z"
    },
    "id": "y8hHhyM1BuIb",
    "outputId": "14c59a22-3b4a-42b4-f469-4f3c1ddd77af",
    "papermill": {
     "duration": 0.052015,
     "end_time": "2021-02-10T19:12:05.563614",
     "exception": false,
     "start_time": "2021-02-10T19:12:05.511599",
     "status": "completed"
    },
    "tags": []
   },
   "outputs": [
    {
     "data": {
      "text/html": [
       "<div>\n",
       "<style scoped>\n",
       "    .dataframe tbody tr th:only-of-type {\n",
       "        vertical-align: middle;\n",
       "    }\n",
       "\n",
       "    .dataframe tbody tr th {\n",
       "        vertical-align: top;\n",
       "    }\n",
       "\n",
       "    .dataframe thead th {\n",
       "        text-align: right;\n",
       "    }\n",
       "</style>\n",
       "<table border=\"1\" class=\"dataframe\">\n",
       "  <thead>\n",
       "    <tr style=\"text-align: right;\">\n",
       "      <th></th>\n",
       "      <th>YearsExperience</th>\n",
       "      <th>Salary</th>\n",
       "    </tr>\n",
       "  </thead>\n",
       "  <tbody>\n",
       "    <tr>\n",
       "      <th>0</th>\n",
       "      <td>1.1</td>\n",
       "      <td>39343.0</td>\n",
       "    </tr>\n",
       "    <tr>\n",
       "      <th>1</th>\n",
       "      <td>1.3</td>\n",
       "      <td>46205.0</td>\n",
       "    </tr>\n",
       "    <tr>\n",
       "      <th>2</th>\n",
       "      <td>1.5</td>\n",
       "      <td>37731.0</td>\n",
       "    </tr>\n",
       "    <tr>\n",
       "      <th>3</th>\n",
       "      <td>2.0</td>\n",
       "      <td>43525.0</td>\n",
       "    </tr>\n",
       "    <tr>\n",
       "      <th>4</th>\n",
       "      <td>2.2</td>\n",
       "      <td>39891.0</td>\n",
       "    </tr>\n",
       "  </tbody>\n",
       "</table>\n",
       "</div>"
      ],
      "text/plain": [
       "   YearsExperience   Salary\n",
       "0              1.1  39343.0\n",
       "1              1.3  46205.0\n",
       "2              1.5  37731.0\n",
       "3              2.0  43525.0\n",
       "4              2.2  39891.0"
      ]
     },
     "execution_count": 5,
     "metadata": {},
     "output_type": "execute_result"
    }
   ],
   "source": [
    "#Get a glimpse of the Dataset\n",
    "dataset.head()"
   ]
  },
  {
   "cell_type": "code",
   "execution_count": 6,
   "metadata": {
    "execution": {
     "iopub.execute_input": "2021-02-10T19:12:05.615321Z",
     "iopub.status.busy": "2021-02-10T19:12:05.614672Z",
     "iopub.status.idle": "2021-02-10T19:12:05.618070Z",
     "shell.execute_reply": "2021-02-10T19:12:05.617589Z"
    },
    "id": "TK6Yxe3zin8N",
    "papermill": {
     "duration": 0.031373,
     "end_time": "2021-02-10T19:12:05.618231",
     "exception": false,
     "start_time": "2021-02-10T19:12:05.586858",
     "status": "completed"
    },
    "tags": []
   },
   "outputs": [],
   "source": [
    "#Separating the independent and dependent features\n",
    "X = np.asarray(dataset['YearsExperience'].values.tolist()) #Independent feature\n",
    "y = np.asarray(dataset['Salary'].values.tolist())          #Dependent feature"
   ]
  },
  {
   "cell_type": "code",
   "execution_count": 7,
   "metadata": {
    "execution": {
     "iopub.execute_input": "2021-02-10T19:12:05.669093Z",
     "iopub.status.busy": "2021-02-10T19:12:05.668515Z",
     "iopub.status.idle": "2021-02-10T19:12:05.671564Z",
     "shell.execute_reply": "2021-02-10T19:12:05.671065Z"
    },
    "id": "iZhxeXCPi8Rd",
    "papermill": {
     "duration": 0.030233,
     "end_time": "2021-02-10T19:12:05.671701",
     "exception": false,
     "start_time": "2021-02-10T19:12:05.641468",
     "status": "completed"
    },
    "tags": []
   },
   "outputs": [],
   "source": [
    "#Reshaping the Independent and Dependent features\n",
    "X = X.reshape(len(X),1)\n",
    "y = y.reshape(len(y),1)"
   ]
  },
  {
   "cell_type": "code",
   "execution_count": 8,
   "metadata": {
    "execution": {
     "iopub.execute_input": "2021-02-10T19:12:05.724617Z",
     "iopub.status.busy": "2021-02-10T19:12:05.723921Z",
     "iopub.status.idle": "2021-02-10T19:12:05.726408Z",
     "shell.execute_reply": "2021-02-10T19:12:05.726897Z"
    },
    "id": "0FQ-HVLwSW0D",
    "papermill": {
     "duration": 0.032171,
     "end_time": "2021-02-10T19:12:05.727064",
     "exception": false,
     "start_time": "2021-02-10T19:12:05.694893",
     "status": "completed"
    },
    "tags": []
   },
   "outputs": [],
   "source": [
    "#Independent Feature Scaling\n",
    "X = (X - int(np.mean(X)))/np.std(X)\n",
    "\n",
    "#Dependent Feature Scaling\n",
    "y = (y - int(np.mean(y)))/np.std(y)"
   ]
  },
  {
   "cell_type": "code",
   "execution_count": 9,
   "metadata": {
    "execution": {
     "iopub.execute_input": "2021-02-10T19:12:05.779888Z",
     "iopub.status.busy": "2021-02-10T19:12:05.779214Z",
     "iopub.status.idle": "2021-02-10T19:12:05.782640Z",
     "shell.execute_reply": "2021-02-10T19:12:05.783104Z"
    },
    "id": "WHGaikOGkSYQ",
    "papermill": {
     "duration": 0.032516,
     "end_time": "2021-02-10T19:12:05.783327",
     "exception": false,
     "start_time": "2021-02-10T19:12:05.750811",
     "status": "completed"
    },
    "tags": []
   },
   "outputs": [],
   "source": [
    "#Adding the feature X0 = 1, so we have the equation: y =  (W1 * X1) + (W0 * X0) \n",
    "X = np.concatenate((X,np.ones((30,1))), axis = 1)"
   ]
  },
  {
   "cell_type": "code",
   "execution_count": 10,
   "metadata": {
    "execution": {
     "iopub.execute_input": "2021-02-10T19:12:05.836844Z",
     "iopub.status.busy": "2021-02-10T19:12:05.836196Z",
     "iopub.status.idle": "2021-02-10T19:12:05.840963Z",
     "shell.execute_reply": "2021-02-10T19:12:05.840325Z"
    },
    "id": "fNkI1FZ9US_f",
    "outputId": "f9c02a3f-6b27-40e3-b9f7-7957796854ed",
    "papermill": {
     "duration": 0.034256,
     "end_time": "2021-02-10T19:12:05.841107",
     "exception": false,
     "start_time": "2021-02-10T19:12:05.806851",
     "status": "completed"
    },
    "tags": []
   },
   "outputs": [
    {
     "data": {
      "text/plain": [
       "array([[-1.39775469,  1.        ],\n",
       "       [-1.32607497,  1.        ],\n",
       "       [-1.25439524,  1.        ],\n",
       "       [-1.07519592,  1.        ],\n",
       "       [-1.00351619,  1.        ],\n",
       "       [-0.75263714,  1.        ],\n",
       "       [-0.71679728,  1.        ],\n",
       "       [-0.64511755,  1.        ],\n",
       "       [-0.64511755,  1.        ],\n",
       "       [-0.46591823,  1.        ],\n",
       "       [-0.3942385 ,  1.        ],\n",
       "       [-0.35839864,  1.        ],\n",
       "       [-0.35839864,  1.        ],\n",
       "       [-0.32255878,  1.        ],\n",
       "       [-0.17919932,  1.        ],\n",
       "       [-0.03583986,  1.        ],\n",
       "       [ 0.03583986,  1.        ],\n",
       "       [ 0.10751959,  1.        ],\n",
       "       [ 0.32255878,  1.        ],\n",
       "       [ 0.35839864,  1.        ],\n",
       "       [ 0.64511755,  1.        ],\n",
       "       [ 0.75263714,  1.        ],\n",
       "       [ 1.03935606,  1.        ],\n",
       "       [ 1.14687565,  1.        ],\n",
       "       [ 1.32607497,  1.        ],\n",
       "       [ 1.43359456,  1.        ],\n",
       "       [ 1.61279388,  1.        ],\n",
       "       [ 1.64863374,  1.        ],\n",
       "       [ 1.89951279,  1.        ],\n",
       "       [ 1.97119252,  1.        ]])"
      ]
     },
     "execution_count": 10,
     "metadata": {},
     "output_type": "execute_result"
    }
   ],
   "source": [
    "X"
   ]
  },
  {
   "cell_type": "markdown",
   "metadata": {
    "id": "TEAUmgwclN5d",
    "papermill": {
     "duration": 0.023674,
     "end_time": "2021-02-10T19:12:05.888981",
     "exception": false,
     "start_time": "2021-02-10T19:12:05.865307",
     "status": "completed"
    },
    "tags": []
   },
   "source": [
    "### Utility Methods"
   ]
  },
  {
   "cell_type": "code",
   "execution_count": 11,
   "metadata": {
    "execution": {
     "iopub.execute_input": "2021-02-10T19:12:05.944116Z",
     "iopub.status.busy": "2021-02-10T19:12:05.943447Z",
     "iopub.status.idle": "2021-02-10T19:12:05.946956Z",
     "shell.execute_reply": "2021-02-10T19:12:05.946439Z"
    },
    "id": "sMFw3Ps4IjIY",
    "papermill": {
     "duration": 0.034141,
     "end_time": "2021-02-10T19:12:05.947094",
     "exception": false,
     "start_time": "2021-02-10T19:12:05.912953",
     "status": "completed"
    },
    "tags": []
   },
   "outputs": [],
   "source": [
    "# The method \"split_data\" splits the given dataset into trainset and testset\n",
    "# This is similar to the method \"train_test_split\" from \"sklearn.model_selection\"\n",
    "def split_data(X,y,test_size=0.2,random_state=0):\n",
    "    np.random.seed(random_state)                  #set the seed for reproducible results\n",
    "    indices = np.random.permutation(len(X))       #shuffling the indices\n",
    "    data_test_size = int(X.shape[0] * test_size)  #Get the test size\n",
    "\n",
    "    #Separating the Independent and Dependent features into the Train and Test Set\n",
    "    train_indices = indices[data_test_size:]\n",
    "    test_indices = indices[:data_test_size]\n",
    "    X_train = X[train_indices]\n",
    "    y_train = y[train_indices]\n",
    "    X_test = X[test_indices]\n",
    "    y_test = y[test_indices]\n",
    "    return X_train, y_train, X_test, y_test"
   ]
  },
  {
   "cell_type": "markdown",
   "metadata": {
    "id": "pjKljivClbWf",
    "papermill": {
     "duration": 0.024584,
     "end_time": "2021-02-10T19:12:05.996695",
     "exception": false,
     "start_time": "2021-02-10T19:12:05.972111",
     "status": "completed"
    },
    "tags": []
   },
   "source": [
    "### Coding the LinearRegression Class"
   ]
  },
  {
   "cell_type": "code",
   "execution_count": 12,
   "metadata": {
    "execution": {
     "iopub.execute_input": "2021-02-10T19:12:06.062710Z",
     "iopub.status.busy": "2021-02-10T19:12:06.061785Z",
     "iopub.status.idle": "2021-02-10T19:12:06.064185Z",
     "shell.execute_reply": "2021-02-10T19:12:06.064657Z"
    },
    "id": "mBt41FyrunIl",
    "papermill": {
     "duration": 0.043994,
     "end_time": "2021-02-10T19:12:06.064844",
     "exception": false,
     "start_time": "2021-02-10T19:12:06.020850",
     "status": "completed"
    },
    "tags": []
   },
   "outputs": [],
   "source": [
    "class linearRegression():\n",
    "\n",
    "  def __init__(self):\n",
    "    #No instance Variables required\n",
    "    pass\n",
    "\n",
    "  def forward(self,X,y,W):\n",
    "    \"\"\"\n",
    "    Parameters:\n",
    "    X (array) : Independent Features\n",
    "    y (array) : Dependent Features/ Target Variable\n",
    "    W (array) : Weights \n",
    "\n",
    "    Returns:\n",
    "    loss (float) : Calculated Sqaured Error Loss for y and y_pred\n",
    "    y_pred (array) : Predicted Target Variable\n",
    "    \"\"\"\n",
    "    y_pred = sum(W * X)\n",
    "    loss = ((y_pred-y)**2)/2    #Loss = Squared Error, we introduce 1/2 for ease in the calculation\n",
    "    return loss, y_pred\n",
    "\n",
    "  def updateWeights(self,X,y_pred,y_true,W,alpha,index):\n",
    "    \"\"\"\n",
    "    Parameters:\n",
    "    X (array) : Independent Features\n",
    "    y_pred (array) : Predicted Target Variable\n",
    "    y_true (array) : Dependent Features/ Target Variable\n",
    "    W (array) : Weights\n",
    "    alpha (float) : learning rate\n",
    "    index (int) : Index to fetch the corresponding values of W, X and y \n",
    "\n",
    "    Returns:\n",
    "    W (array) : Update Values of Weight\n",
    "    \"\"\"\n",
    "    for i in range(X.shape[1]):\n",
    "      #alpha = learning rate, rest of the RHS is derivative of loss function\n",
    "      W[i] -= (alpha * (y_pred-y_true[index])*X[index][i]) \n",
    "    return W\n",
    "\n",
    "  def train(self, X, y, epochs=10, alpha=0.001, random_state=0):\n",
    "    \"\"\"\n",
    "    Parameters:\n",
    "    X (array) : Independent Feature\n",
    "    y (array) : Dependent Features/ Target Variable\n",
    "    epochs (int) : Number of epochs for training, default value is 10\n",
    "    alpha (float) : learning rate, default value is 0.001\n",
    "\n",
    "    Returns:\n",
    "    y_pred (array) : Predicted Target Variable\n",
    "    loss (float) : Calculated Sqaured Error Loss for y and y_pred\n",
    "    \"\"\"\n",
    "\n",
    "    num_rows = X.shape[0] #Number of Rows\n",
    "    num_cols = X.shape[1] #Number of Columns \n",
    "    W = np.random.randn(1,num_cols) / np.sqrt(num_rows) #Weight Initialization\n",
    "\n",
    "    #Calculating Loss and Updating Weights\n",
    "    train_loss = []\n",
    "    num_epochs = []\n",
    "    train_indices = [i for i in range(X.shape[0])]\n",
    "    for j in range(epochs):\n",
    "      cost=0\n",
    "      np.random.seed(random_state)\n",
    "      np.random.shuffle(train_indices)\n",
    "      for i in train_indices:\n",
    "        loss, y_pred = self.forward(X[i],y[i],W[0])\n",
    "        cost+=loss\n",
    "        W[0] = self.updateWeights(X,y_pred,y,W[0],alpha,i)\n",
    "      train_loss.append(cost)\n",
    "      num_epochs.append(j)\n",
    "    return W[0], train_loss, num_epochs\n",
    "\n",
    "  def test(self, X_test, y_test, W_trained):\n",
    "    \"\"\"\n",
    "    Parameters:\n",
    "    X_test (array) : Independent Features from the Test Set\n",
    "    y_test (array) : Dependent Features/ Target Variable from the Test Set\n",
    "    W_trained (array) : Trained Weights\n",
    "    test_indices (list) : Index to fetch the corresponding values of W_trained,\n",
    "                          X_test and y_test \n",
    "\n",
    "    Returns:\n",
    "    test_pred (list) : Predicted Target Variable\n",
    "    test_loss (list) : Calculated Sqaured Error Loss for y and y_pred\n",
    "    \"\"\"\n",
    "    test_pred = []\n",
    "    test_loss = []\n",
    "    test_indices = [i for i in range(X_test.shape[0])]\n",
    "    for i in test_indices:\n",
    "        loss, y_test_pred = self.forward(X_test[i], W_trained, y_test[i])\n",
    "        test_pred.append(y_test_pred)\n",
    "        test_loss.append(loss)\n",
    "    return test_pred, test_loss\n",
    "    \n",
    "\n",
    "  def plotLoss(self, loss, epochs):\n",
    "    \"\"\"\n",
    "    Parameters:\n",
    "    loss (list) : Calculated Sqaured Error Loss for y and y_pred\n",
    "    epochs (list): Number of Epochs\n",
    "\n",
    "    Returns: None\n",
    "    Plots a graph of Loss vs Epochs\n",
    "    \"\"\"\n",
    "    plt.plot(epochs, loss)\n",
    "    plt.xlabel('Number of Epochs')\n",
    "    plt.ylabel('Loss')\n",
    "    plt.title('Plot Loss')\n",
    "    plt.show()\n",
    "  \n"
   ]
  },
  {
   "cell_type": "markdown",
   "metadata": {
    "id": "KL3sFhd5sJ85",
    "papermill": {
     "duration": 0.024208,
     "end_time": "2021-02-10T19:12:06.113695",
     "exception": false,
     "start_time": "2021-02-10T19:12:06.089487",
     "status": "completed"
    },
    "tags": []
   },
   "source": [
    "### Performing Linear Regression"
   ]
  },
  {
   "cell_type": "code",
   "execution_count": 13,
   "metadata": {
    "execution": {
     "iopub.execute_input": "2021-02-10T19:12:06.167606Z",
     "iopub.status.busy": "2021-02-10T19:12:06.166865Z",
     "iopub.status.idle": "2021-02-10T19:12:06.170237Z",
     "shell.execute_reply": "2021-02-10T19:12:06.169673Z"
    },
    "id": "SeUC0VYImNlQ",
    "papermill": {
     "duration": 0.032102,
     "end_time": "2021-02-10T19:12:06.170393",
     "exception": false,
     "start_time": "2021-02-10T19:12:06.138291",
     "status": "completed"
    },
    "tags": []
   },
   "outputs": [],
   "source": [
    "#Splitting the dataset\n",
    "X_train, y_train, X_test, y_test = split_data(X,y)"
   ]
  },
  {
   "cell_type": "code",
   "execution_count": 14,
   "metadata": {
    "execution": {
     "iopub.execute_input": "2021-02-10T19:12:06.223598Z",
     "iopub.status.busy": "2021-02-10T19:12:06.222910Z",
     "iopub.status.idle": "2021-02-10T19:12:06.225478Z",
     "shell.execute_reply": "2021-02-10T19:12:06.224831Z"
    },
    "id": "2UU50V05mRoN",
    "papermill": {
     "duration": 0.030719,
     "end_time": "2021-02-10T19:12:06.225627",
     "exception": false,
     "start_time": "2021-02-10T19:12:06.194908",
     "status": "completed"
    },
    "tags": []
   },
   "outputs": [],
   "source": [
    "#declaring the \"regressor\" as an object of the class LinearRegression\n",
    "regressor = linearRegression()"
   ]
  },
  {
   "cell_type": "code",
   "execution_count": 15,
   "metadata": {
    "execution": {
     "iopub.execute_input": "2021-02-10T19:12:06.277620Z",
     "iopub.status.busy": "2021-02-10T19:12:06.276973Z",
     "iopub.status.idle": "2021-02-10T19:12:07.102297Z",
     "shell.execute_reply": "2021-02-10T19:12:07.101638Z"
    },
    "id": "5wLjNkQnusqh",
    "papermill": {
     "duration": 0.852391,
     "end_time": "2021-02-10T19:12:07.102438",
     "exception": false,
     "start_time": "2021-02-10T19:12:06.250047",
     "status": "completed"
    },
    "tags": []
   },
   "outputs": [],
   "source": [
    "#Training \n",
    "W_trained, train_loss, num_epochs = regressor.train(X_train, y_train, epochs=1000, alpha=0.0001)"
   ]
  },
  {
   "cell_type": "code",
   "execution_count": 16,
   "metadata": {
    "execution": {
     "iopub.execute_input": "2021-02-10T19:12:07.158448Z",
     "iopub.status.busy": "2021-02-10T19:12:07.157763Z",
     "iopub.status.idle": "2021-02-10T19:12:07.161124Z",
     "shell.execute_reply": "2021-02-10T19:12:07.160485Z"
    },
    "id": "_JQSySiyxJ4n",
    "papermill": {
     "duration": 0.032759,
     "end_time": "2021-02-10T19:12:07.161286",
     "exception": false,
     "start_time": "2021-02-10T19:12:07.128527",
     "status": "completed"
    },
    "tags": []
   },
   "outputs": [],
   "source": [
    "#Testing on the Test Dataset\n",
    "test_pred, test_loss = regressor.test(X_test, y_test, W_trained)"
   ]
  },
  {
   "cell_type": "markdown",
   "metadata": {
    "id": "LbXBW88kpjmN",
    "papermill": {
     "duration": 0.024895,
     "end_time": "2021-02-10T19:12:07.211372",
     "exception": false,
     "start_time": "2021-02-10T19:12:07.186477",
     "status": "completed"
    },
    "tags": []
   },
   "source": [
    "### Visualizing Results"
   ]
  },
  {
   "cell_type": "code",
   "execution_count": 17,
   "metadata": {
    "execution": {
     "iopub.execute_input": "2021-02-10T19:12:07.280933Z",
     "iopub.status.busy": "2021-02-10T19:12:07.280054Z",
     "iopub.status.idle": "2021-02-10T19:12:07.425773Z",
     "shell.execute_reply": "2021-02-10T19:12:07.426342Z"
    },
    "id": "z80Vq2Y0wZMa",
    "outputId": "04559538-0222-4165-97a7-dbc5c00ba7a0",
    "papermill": {
     "duration": 0.19015,
     "end_time": "2021-02-10T19:12:07.426527",
     "exception": false,
     "start_time": "2021-02-10T19:12:07.236377",
     "status": "completed"
    },
    "tags": []
   },
   "outputs": [
    {
     "data": {
      "image/png": "[encoded data removed]",
      "text/plain": [
       "<Figure size 640x480 with 1 Axes>"
      ]
     },
     "metadata": {},
     "output_type": "display_data"
    }
   ],
   "source": [
    "#Plot the Train Loss\n",
    "regressor.plotLoss(train_loss, num_epochs)"
   ]
  },
  {
   "cell_type": "code",
   "execution_count": 18,
   "metadata": {
    "execution": {
     "iopub.execute_input": "2021-02-10T19:12:07.481800Z",
     "iopub.status.busy": "2021-02-10T19:12:07.480835Z",
     "iopub.status.idle": "2021-02-10T19:12:07.487785Z",
     "shell.execute_reply": "2021-02-10T19:12:07.487272Z"
    },
    "id": "5zMNyOSgQRmT",
    "outputId": "e8a694dd-c3a4-45f0-e8af-3be5e1f84cb0",
    "papermill": {
     "duration": 0.035474,
     "end_time": "2021-02-10T19:12:07.487926",
     "exception": false,
     "start_time": "2021-02-10T19:12:07.452452",
     "status": "completed"
    },
    "tags": []
   },
   "outputs": [
    {
     "name": "stdout",
     "output_type": "stream",
     "text": [
      "[array([0.13316238, 0.10105674]), array([ 8.45779583, 12.89554969]), array([0.91512118, 0.07497259]), array([0.67816962, 0.01979709]), array([4.78584711, 8.23957697]), array([2.01506443, 4.4198254 ])]\n"
     ]
    }
   ],
   "source": [
    "print(test_loss)"
   ]
  }
 ],
 "metadata": {
  "kernelspec": {
   "display_name": "Python 3 (ipykernel)",
   "language": "python",
   "name": "python3"
  },
  "language_info": {
   "codemirror_mode": {
    "name": "ipython",
    "version": 3
   },
   "file_extension": ".py",
   "mimetype": "text/x-python",
   "name": "python",
   "nbconvert_exporter": "python",
   "pygments_lexer": "ipython3",
   "version": "3.9.13"
  },
  "papermill": {
   "default_parameters": {},
   "duration": 10.870384,
   "end_time": "2021-02-10T19:12:10.484857",
   "environment_variables": {},
   "exception": null,
   "input_path": "__notebook__.ipynb",
   "output_path": "__notebook__.ipynb",
   "parameters": {},
   "start_time": "2021-02-10T19:11:59.614473",
   "version": "2.2.2"
  }
 },
 "nbformat": 4,
 "nbformat_minor": 4
}
